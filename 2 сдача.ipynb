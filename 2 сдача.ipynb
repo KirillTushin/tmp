{
 "cells": [
  {
   "cell_type": "code",
   "execution_count": 2,
   "metadata": {
    "collapsed": true
   },
   "outputs": [],
   "source": [
    "import numpy as np"
   ]
  },
  {
   "cell_type": "markdown",
   "metadata": {},
   "source": [
    "### Интерполяционный полином в форме Лагранжа"
   ]
  },
  {
   "cell_type": "markdown",
   "metadata": {},
   "source": [
    "P = sum(F_k * sub((x - X_j)/(X_k - X_j)) for k = 0 .. N , for j = 0 .. N if j!=k "
   ]
  },
  {
   "cell_type": "markdown",
   "metadata": {},
   "source": [
    "|R| <= max|f^((N+1))| * h^(N+1)/(N+1)"
   ]
  },
  {
   "cell_type": "markdown",
   "metadata": {},
   "source": [
    "### Интерполяционный полином в форме Ньютона"
   ]
  },
  {
   "cell_type": "code",
   "execution_count": 6,
   "metadata": {
    "collapsed": true
   },
   "outputs": [],
   "source": [
    "### Запрогать разделенные разности\n",
    "\n",
    "def f_0(k , f , X):\n",
    "    return f(X[k])\n",
    "\n",
    "def f_1(k , f , X):\n",
    "    return (f_0(k+1 , f , X) - f_0(k , f , X))/(X[k+1] - X[k])\n",
    "\n",
    "def f_2(k , f , X):\n",
    "    return (f_1(k+1 , f , X) - f_1(k , f , X))/(X[k+2] - X[k])\n",
    "\n",
    "def f_3(k , f , X):\n",
    "    return (f_2(k+1 , f , X) - f_2(k , f , X))/(X[k+3] - X[k])"
   ]
  },
  {
   "cell_type": "markdown",
   "metadata": {},
   "source": [
    "### Производная МНК"
   ]
  },
  {
   "cell_type": "code",
   "execution_count": 104,
   "metadata": {},
   "outputs": [
    {
     "name": "stdout",
     "output_type": "stream",
     "text": [
      "0.951459854675 0.951056516295 \n",
      "diff =  0.000403338380218\n"
     ]
    }
   ],
   "source": [
    "N = 5\n",
    "point = 1\n",
    "f = np.sin\n",
    "X = np.array(range(N))*np.pi*1/10\n",
    "F = f(X)\n",
    "\n",
    "M = np.vander(X , increasing=True).T\n",
    "Y = np.array([i*pow(X[point], i-1) for i in range(N)])\n",
    "solve = np.linalg.solve(M , Y)\n",
    "\n",
    "res = 0\n",
    "for i in range(N):\n",
    "    res += solve[i]*F[i]\n",
    "real = np.cos(X[point])\n",
    "print (res , real , '\\ndiff = ' ,  res - real)"
   ]
  },
  {
   "cell_type": "markdown",
   "metadata": {},
   "source": [
    "### Прямоугольники"
   ]
  },
  {
   "cell_type": "code",
   "execution_count": 112,
   "metadata": {},
   "outputs": [
    {
     "name": "stdout",
     "output_type": "stream",
     "text": [
      "1.95910307129 1.9510565163 \n",
      "diff =  0.00804655499896\n"
     ]
    }
   ],
   "source": [
    "N = 10\n",
    "f = np.sin\n",
    "X = np.array(range(N))*np.pi*1/10\n",
    "\n",
    "h = X[1] - X[0]\n",
    "res = 0\n",
    "for i in range(N-1):\n",
    "    res += f((X[i + 1] + X[i])/2)\n",
    "res *= h\n",
    "real = np.cos(X[0]) - np.cos(X[N - 1])\n",
    "print (res , real , '\\ndiff = ' ,  res - real)"
   ]
  },
  {
   "cell_type": "markdown",
   "metadata": {},
   "source": [
    "### Трапеции"
   ]
  },
  {
   "cell_type": "code",
   "execution_count": 141,
   "metadata": {},
   "outputs": [
    {
     "name": "stdout",
     "output_type": "stream",
     "text": [
      "1.93498326154 1.9510565163 \n",
      "diff =  -0.0160732547538\n"
     ]
    }
   ],
   "source": [
    "N = 10\n",
    "f = np.sin\n",
    "X = np.array(range(N))*np.pi*1/10\n",
    "\n",
    "res = 0\n",
    "for i in range(N-1):\n",
    "    h = X[i + 1] - X[i]\n",
    "    res += h*(f(X[i + 1]) + f(X[i]))\n",
    "res /= 2\n",
    "real = np.cos(X[0]) - np.cos(X[N - 1])\n",
    "print (res , real , '\\ndiff = ' ,  res - real)"
   ]
  },
  {
   "cell_type": "markdown",
   "metadata": {},
   "source": [
    "### Симпсон"
   ]
  },
  {
   "cell_type": "code",
   "execution_count": 184,
   "metadata": {},
   "outputs": [
    {
     "name": "stdout",
     "output_type": "stream",
     "text": [
      "1.95106313471 1.9510565163 \n",
      "diff =  6.61841469274e-06\n"
     ]
    }
   ],
   "source": [
    "N = 10\n",
    "f = np.sin\n",
    "X = np.array(range(N))*np.pi*1/10\n",
    "\n",
    "h = X[1] - X[0]\n",
    "res = f(X[0]) + 4*f(X[N-1] - h/2) + f(X[N-1])\n",
    "for i in range(1,N-1):\n",
    "    res += 4 * f(X[i] - h/2) + 2 * f(X[i])\n",
    "res *= h/6\n",
    "real = np.cos(X[0]) - np.cos(X[N - 1])\n",
    "print (res , real , '\\ndiff = ' ,  res - real)"
   ]
  },
  {
   "cell_type": "code",
   "execution_count": null,
   "metadata": {
    "collapsed": true
   },
   "outputs": [],
   "source": []
  }
 ],
 "metadata": {
  "kernelspec": {
   "display_name": "Python 3",
   "language": "python",
   "name": "python3"
  },
  "language_info": {
   "codemirror_mode": {
    "name": "ipython",
    "version": 3
   },
   "file_extension": ".py",
   "mimetype": "text/x-python",
   "name": "python",
   "nbconvert_exporter": "python",
   "pygments_lexer": "ipython3",
   "version": "3.6.1"
  }
 },
 "nbformat": 4,
 "nbformat_minor": 2
}
